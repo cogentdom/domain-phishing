{
 "cells": [
  {
   "cell_type": "markdown",
   "id": "d1637d85",
   "metadata": {},
   "source": [
    "# CNN Prototyping"
   ]
  },
  {
   "cell_type": "code",
   "execution_count": 23,
   "id": "c9f6b1aa",
   "metadata": {},
   "outputs": [],
   "source": [
    "import keras.layers\n",
    "import pandas as pd\n",
    "import numpy as np\n",
    "import matplotlib.pyplot as plt\n",
    "from sklearn.model_selection import train_test_split\n",
    "# from analytics.PhishX.Modeling.build-convolutions import process_urls\n",
    "\n",
    "plt.style.use('ggplot')\n",
    "plt.rc('patch', force_edgecolor=True,edgecolor='white')\n",
    "plt.rc('hist', bins='auto')"
   ]
  },
  {
   "cell_type": "code",
   "execution_count": 24,
   "id": "68218bdb",
   "metadata": {},
   "outputs": [
    {
     "data": {
      "text/plain": [
       "(549346, 2)"
      ]
     },
     "execution_count": 24,
     "metadata": {},
     "output_type": "execute_result"
    }
   ],
   "source": [
    "data = pd.read_csv('phishing_site_urls.csv')\n",
    "data.shape"
   ]
  },
  {
   "cell_type": "code",
   "execution_count": 25,
   "id": "44326fb8",
   "metadata": {},
   "outputs": [
    {
     "data": {
      "text/html": [
       "<div>\n",
       "<style scoped>\n",
       "    .dataframe tbody tr th:only-of-type {\n",
       "        vertical-align: middle;\n",
       "    }\n",
       "\n",
       "    .dataframe tbody tr th {\n",
       "        vertical-align: top;\n",
       "    }\n",
       "\n",
       "    .dataframe thead th {\n",
       "        text-align: right;\n",
       "    }\n",
       "</style>\n",
       "<table border=\"1\" class=\"dataframe\">\n",
       "  <thead>\n",
       "    <tr style=\"text-align: right;\">\n",
       "      <th></th>\n",
       "      <th>URL</th>\n",
       "      <th>Label</th>\n",
       "    </tr>\n",
       "  </thead>\n",
       "  <tbody>\n",
       "    <tr>\n",
       "      <th>0</th>\n",
       "      <td>nobell.it/70ffb52d079109dca5664cce6f317373782/...</td>\n",
       "      <td>1</td>\n",
       "    </tr>\n",
       "    <tr>\n",
       "      <th>1</th>\n",
       "      <td>www.dghjdgf.com/paypal.co.uk/cycgi-bin/webscrc...</td>\n",
       "      <td>1</td>\n",
       "    </tr>\n",
       "    <tr>\n",
       "      <th>2</th>\n",
       "      <td>serviciosbys.com/paypal.cgi.bin.get-into.herf....</td>\n",
       "      <td>1</td>\n",
       "    </tr>\n",
       "    <tr>\n",
       "      <th>3</th>\n",
       "      <td>mail.printakid.com/www.online.americanexpress....</td>\n",
       "      <td>1</td>\n",
       "    </tr>\n",
       "    <tr>\n",
       "      <th>4</th>\n",
       "      <td>thewhiskeydregs.com/wp-content/themes/widescre...</td>\n",
       "      <td>1</td>\n",
       "    </tr>\n",
       "  </tbody>\n",
       "</table>\n",
       "</div>"
      ],
      "text/plain": [
       "                                                 URL  Label\n",
       "0  nobell.it/70ffb52d079109dca5664cce6f317373782/...      1\n",
       "1  www.dghjdgf.com/paypal.co.uk/cycgi-bin/webscrc...      1\n",
       "2  serviciosbys.com/paypal.cgi.bin.get-into.herf....      1\n",
       "3  mail.printakid.com/www.online.americanexpress....      1\n",
       "4  thewhiskeydregs.com/wp-content/themes/widescre...      1"
      ]
     },
     "execution_count": 25,
     "metadata": {},
     "output_type": "execute_result"
    }
   ],
   "source": [
    "data['Label'] = data['Label'].apply(lambda x: 1 if x == 'bad' else 0)\n",
    "data.head()"
   ]
  },
  {
   "cell_type": "code",
   "execution_count": 26,
   "id": "c28a07fe",
   "metadata": {},
   "outputs": [
    {
     "name": "stdout",
     "output_type": "stream",
     "text": [
      "Positive signal 400\n",
      "No Signal 400\n"
     ]
    }
   ],
   "source": [
    "signal_idx = list(range(0, 400))\n",
    "good_idx = list(range(18231, 18331))\n",
    "\n",
    "print(f'Positive signal {len(signal_idx)}\\n'\n",
    "      f'No Signal {len(signal_idx)}')"
   ]
  },
  {
   "cell_type": "code",
   "execution_count": 27,
   "id": "57e9bc44",
   "metadata": {},
   "outputs": [
    {
     "data": {
      "text/plain": [
       "500"
      ]
     },
     "execution_count": 27,
     "metadata": {},
     "output_type": "execute_result"
    }
   ],
   "source": [
    "agg_list = [*signal_idx , *good_idx]\n",
    "len(agg_list)"
   ]
  },
  {
   "cell_type": "code",
   "execution_count": 28,
   "id": "2924f230",
   "metadata": {},
   "outputs": [
    {
     "data": {
      "text/plain": [
       "1"
      ]
     },
     "execution_count": 28,
     "metadata": {},
     "output_type": "execute_result"
    }
   ],
   "source": [
    "positive_signal = [data.iloc[signal_idx]]\n",
    "len(positive_signal)"
   ]
  },
  {
   "cell_type": "code",
   "execution_count": 29,
   "id": "ab40dcdb",
   "metadata": {},
   "outputs": [
    {
     "data": {
      "text/plain": [
       "1"
      ]
     },
     "execution_count": 29,
     "metadata": {},
     "output_type": "execute_result"
    }
   ],
   "source": [
    "no_signal = [data.iloc[good_idx]]\n",
    "len(no_signal)"
   ]
  },
  {
   "cell_type": "code",
   "execution_count": 30,
   "id": "fc0c93e7",
   "metadata": {},
   "outputs": [
    {
     "data": {
      "text/plain": [
       "(500, 2)"
      ]
     },
     "execution_count": 30,
     "metadata": {},
     "output_type": "execute_result"
    }
   ],
   "source": [
    "input = np.hstack([positive_signal, no_signal])\n",
    "input = input.reshape(500, 2)\n",
    "input.shape"
   ]
  },
  {
   "cell_type": "code",
   "execution_count": 31,
   "id": "a482ff2b",
   "metadata": {},
   "outputs": [],
   "source": [
    "df = pd.DataFrame(input)\n",
    "df.reset_index(inplace=True)\n",
    "df.rename(columns={0:'URL', 1:'Label'}, inplace=True)\n",
    "url_df = df.drop(columns=['Label'])\n",
    "label_df = df.drop(columns=['URL'])\n",
    "df_index = df['index']"
   ]
  },
  {
   "cell_type": "code",
   "execution_count": 32,
   "id": "fa99637f",
   "metadata": {},
   "outputs": [],
   "source": [
    "# Create character list\n",
    "char_idx_1 = list(map(chr, range(33, 65)))\n",
    "char_idx_2 = list(map(chr, range(91, 127)))\n",
    "char_idx = char_idx_1 + char_idx_2"
   ]
  },
  {
   "cell_type": "code",
   "execution_count": 33,
   "id": "98d553f8",
   "metadata": {},
   "outputs": [],
   "source": [
    "def process_urls(vals_in):\n",
    "\n",
    "    vals = vals_in.set_index('index')\n",
    "    conv_3d = np.array([])\n",
    "\n",
    "    for i in vals.index:\n",
    "        data = vals.iloc[i]\n",
    "\n",
    "        zeroed = np.array([])\n",
    "        if len(data['URL']) <= 256:\n",
    "            dums = pd.get_dummies(np.array(list(data['URL'])))\n",
    "            fill_n_rows = 256 - len(data['URL'])\n",
    "            zeroed = np.zeros((fill_n_rows, len(char_idx)))\n",
    "        else:\n",
    "            dums = pd.get_dummies(np.array((list(data['URL']))))\n",
    "            dums = dums.head(256)\n",
    "\n",
    "        conv = pd.DataFrame(dums, columns=char_idx)\n",
    "        conv = np.where(pd.isna(conv), 0, conv)\n",
    "        if len(zeroed):\n",
    "            conv = np.vstack((conv, zeroed))\n",
    "\n",
    "\n",
    "        conv = conv.T\n",
    "        conv = conv.reshape((-1, 68, 256))\n",
    "\n",
    "        if len(conv_3d):\n",
    "            conv_3d = np.vstack((conv_3d, conv))\n",
    "        else:\n",
    "            conv_3d = conv\n",
    "\n",
    "    return conv_3d"
   ]
  },
  {
   "cell_type": "code",
   "execution_count": 34,
   "id": "07501d5e",
   "metadata": {},
   "outputs": [
    {
     "name": "stdout",
     "output_type": "stream",
     "text": [
      "500\n",
      "256\n"
     ]
    }
   ],
   "source": [
    "url_length = list(range(0, 256))\n",
    "print(len(agg_list))\n",
    "print(len(url_length))"
   ]
  },
  {
   "cell_type": "code",
   "execution_count": 35,
   "id": "7aa2de5e",
   "metadata": {},
   "outputs": [
    {
     "data": {
      "text/plain": [
       "(500, 68, 256)"
      ]
     },
     "execution_count": 35,
     "metadata": {},
     "output_type": "execute_result"
    }
   ],
   "source": [
    "train = process_urls(url_df)\n",
    "train.shape"
   ]
  },
  {
   "cell_type": "code",
   "execution_count": 36,
   "id": "7dd4a1fd",
   "metadata": {},
   "outputs": [
    {
     "data": {
      "text/plain": [
       "(500, 1)"
      ]
     },
     "execution_count": 36,
     "metadata": {},
     "output_type": "execute_result"
    }
   ],
   "source": [
    "labels = label_df['Label'].to_numpy()  # .reshape(-1, 1)\n",
    "labels = np.array(labels)[:, np.newaxis]\n",
    "# labels = labels.reshape(500, -1)\n",
    "labels.shape"
   ]
  },
  {
   "cell_type": "code",
   "execution_count": 37,
   "id": "a543d8cf",
   "metadata": {},
   "outputs": [],
   "source": [
    "train = np.asarray(train).astype(np.float32)\n",
    "labels = np.asarray(labels).astype(np.float32)"
   ]
  },
  {
   "cell_type": "code",
   "execution_count": 38,
   "id": "106fc788",
   "metadata": {},
   "outputs": [
    {
     "name": "stdout",
     "output_type": "stream",
     "text": [
      "X data for testing: (100, 68, 256)\n",
      "y data fot testing: (100, 1)\n"
     ]
    }
   ],
   "source": [
    "X_test = np.vstack([train[:80, :, :], train[-20:, :, :]])\n",
    "y_test = np.vstack([labels[:80, :], labels[-20:, :]])\n",
    "print(f'X data for testing: {X_test.shape}\\n'\n",
    "      f'y data fot testing: {y_test.shape}')"
   ]
  },
  {
   "cell_type": "code",
   "execution_count": 39,
   "id": "fb32a87d",
   "metadata": {},
   "outputs": [
    {
     "name": "stdout",
     "output_type": "stream",
     "text": [
      "X data for training: (400, 68, 256)\n",
      "y data fot training: (400, 1)\n"
     ]
    }
   ],
   "source": [
    "X_train = train[:-20, :, :]\n",
    "X_train = X_train[80:, :, :]\n",
    "y_train = labels[:-20, :]\n",
    "y_train = y_train[80:, :]\n",
    "print(f'X data for training: {X_train.shape}\\n'\n",
    "      f'y data fot training: {y_train.shape}')"
   ]
  },
  {
   "cell_type": "code",
   "execution_count": 40,
   "id": "b78fb738",
   "metadata": {},
   "outputs": [
    {
     "name": "stdout",
     "output_type": "stream",
     "text": [
      "Train X: (400, 68, 256, 1)\n",
      "Test X: (100, 68, 256, 1)\n"
     ]
    }
   ],
   "source": [
    "X_train = X_train.reshape(*X_train.shape, -1)\n",
    "X_test = X_test.reshape(*X_test.shape, -1)\n",
    "\n",
    "print(f'Train X: {X_train.shape}')\n",
    "print(f'Test X: {X_test.shape}')"
   ]
  },
  {
   "cell_type": "code",
   "execution_count": 41,
   "id": "0f1c6031",
   "metadata": {},
   "outputs": [
    {
     "name": "stdout",
     "output_type": "stream",
     "text": [
      "Train y: (400, 1)\n",
      "Test y: (100, 1)\n"
     ]
    }
   ],
   "source": [
    "# y_train = y_train.reshape(1, *y_train.shape)\n",
    "# y_test = y_test.reshape(1, *y_test.shape)\n",
    "\n",
    "print(f'Train y: {y_train.shape}')\n",
    "print(f'Test y: {y_test.shape}')"
   ]
  },
  {
   "cell_type": "code",
   "execution_count": 52,
   "id": "e4dea274",
   "metadata": {},
   "outputs": [],
   "source": [
    "# LSTM and CNN for sequence classification in the IMDB dataset\n",
    "import tensorflow as tf\n",
    "\n",
    "from keras.models import Sequential\n",
    "from keras.layers import Dense\n",
    "from keras.layers import LSTM\n",
    "from keras.layers import Conv1D\n",
    "from keras.layers import Conv2D\n",
    "from keras.layers import ConvLSTM1D\n",
    "from keras.layers import MaxPooling1D\n",
    "from keras.layers import MaxPooling2D\n",
    "from keras.layers import Embedding\n",
    "from keras.layers import Flatten\n",
    "from keras.layers import RepeatVector\n",
    "from keras.preprocessing import sequence\n",
    "from keras import metrics\n",
    "# fix random seed for reproducibility\n",
    "tf.random.set_seed(7)"
   ]
  },
  {
   "cell_type": "code",
   "execution_count": 53,
   "id": "beec066b",
   "metadata": {
    "scrolled": false
   },
   "outputs": [
    {
     "name": "stdout",
     "output_type": "stream",
     "text": [
      "Model: \"sequential_2\"\n",
      "_________________________________________________________________\n",
      " Layer (type)                Output Shape              Param #   \n",
      "=================================================================\n",
      " embedding_2 (Embedding)     (None, 68, 256, 68)       34000     \n",
      "                                                                 \n",
      " conv2d_2 (Conv2D)           (None, 1, 256, 68)        69        \n",
      "                                                                 \n",
      " max_pooling2d_2 (MaxPooling  (None, 1, 128, 34)       0         \n",
      " 2D)                                                             \n",
      "                                                                 \n",
      " flatten_2 (Flatten)         (None, 4352)              0         \n",
      "                                                                 \n",
      " repeat_vector_2 (RepeatVect  (None, 1, 4352)          0         \n",
      " or)                                                             \n",
      "                                                                 \n",
      " cu_dnnlstm_2 (CuDNNLSTM)    (None, 68)                1202784   \n",
      "                                                                 \n",
      " dense_2 (Dense)             (None, 1)                 69        \n",
      "                                                                 \n",
      "=================================================================\n",
      "Total params: 1,236,922\n",
      "Trainable params: 1,236,922\n",
      "Non-trainable params: 0\n",
      "_________________________________________________________________\n",
      "None\n"
     ]
    }
   ],
   "source": [
    "# truncate and pad input sequences\n",
    "# max_review_length = 500\n",
    "\n",
    "# X_train = sequence.pad_sequences(X_train, maxlen=256)\n",
    "# X_test = sequence.pad_sequences(X_test, maxlen=256)\n",
    "\n",
    "top_words = 500\n",
    "# create the model\n",
    "embedding_vecor_length =68  # 32\n",
    "model = Sequential()\n",
    "model.add(Embedding(top_words, embedding_vecor_length, input_shape=(68,256)))\n",
    "model.add(Conv2D(filters=1, kernel_size=1, padding='same', activation='relu'))\n",
    "# X_train = X_train.reshape(68, 256, 1)\n",
    "model.add(MaxPooling2D(pool_size=2))\n",
    "model.add(Flatten())\n",
    "model.add(RepeatVector(1))\n",
    "model.add(tf.compat.v1.keras.layers.CuDNNLSTM(68, input_shape=(1, 1028)))\n",
    "model.add(Dense(1, activation='sigmoid'))\n",
    "model.compile(loss='binary_crossentropy', optimizer='adam', metrics=[metrics.Precision(), metrics.Recall()])\n",
    "print(model.summary())"
   ]
  },
  {
   "cell_type": "code",
   "execution_count": 54,
   "id": "38eb8deb",
   "metadata": {},
   "outputs": [
    {
     "name": "stdout",
     "output_type": "stream",
     "text": [
      "Epoch 1/3\n",
      "400/400 [==============================] - 4s 5ms/step - loss: 0.4790 - precision: 0.8045 - recall: 0.9969\n",
      "Epoch 2/3\n",
      "400/400 [==============================] - 2s 5ms/step - loss: 0.2762 - precision: 0.8692 - recall: 0.9907\n",
      "Epoch 3/3\n",
      "400/400 [==============================] - 2s 5ms/step - loss: 0.1613 - precision: 0.9548 - recall: 0.9845\n",
      "Accuracy: 98.77%\n"
     ]
    }
   ],
   "source": [
    "model.fit(X_train, y_train, epochs=3, batch_size=1)\n",
    "# Final evaluation of the model\n",
    "scores = model.evaluate(X_test, y_test, verbose=0)\n",
    "print(\"Accuracy: %.2f%%\" % (scores[1]*100))"
   ]
  },
  {
   "cell_type": "code",
   "execution_count": 55,
   "id": "cfd95c8d",
   "metadata": {},
   "outputs": [],
   "source": [
    "val_x = X_test\n",
    "val_y = y_test"
   ]
  },
  {
   "cell_type": "code",
   "execution_count": 56,
   "id": "b7f62b0f",
   "metadata": {},
   "outputs": [
    {
     "data": {
      "text/plain": [
       "[0.12849897146224976, 0.9876543283462524, 0.9523809552192688]"
      ]
     },
     "execution_count": 56,
     "metadata": {},
     "output_type": "execute_result"
    }
   ],
   "source": [
    "scores"
   ]
  },
  {
   "cell_type": "code",
   "execution_count": 63,
   "id": "8af16422",
   "metadata": {},
   "outputs": [
    {
     "name": "stdout",
     "output_type": "stream",
     "text": [
      "Shape of Training Batch: (400, 68, 256, 1)\n",
      "Total record count: 68\n",
      "Shape of Validation Batch: (100, 68, 256, 1)\n",
      "Records being predicted on: \n",
      "  100\n",
      "Accuracies:\n",
      "  Model 1: 12.8499%\t Model 2:  98.7654%\t Model 3:  95.2381%\n",
      "Time:\n",
      "CPU times: user 88.2 ms, sys: 9.05 ms, total: 97.3 ms\n",
      "Wall time: 70.7 ms\n"
     ]
    }
   ],
   "source": [
    "%%time\n",
    "# Final evaluation of the model\n",
    "scores = model.evaluate(val_x, val_y, verbose=0)\n",
    "print(f'Shape of Training Batch: {X_train.shape}\\nTotal record count: {X_train[0].shape[0]:,}')\n",
    "print(f'Shape of Validation Batch: {val_x.shape}\\nRecords being predicted on: \\n  {val_x.shape[0]:,}')\n",
    "print(f\"Accuracies:\\n  Model 1: {scores[0] * 100:0.4f}%\\t Model 2:  {scores[1] * 100:0.4f}%\\t Model 3:  {scores[2] * 100:0.4f}%\\nTime:\")"
   ]
  },
  {
   "cell_type": "code",
   "execution_count": 74,
   "id": "3d2292cc",
   "metadata": {},
   "outputs": [
    {
     "name": "stdout",
     "output_type": "stream",
     "text": [
      "Validation using unseen data:\n",
      "Records being predicted on: \n",
      " 68\n",
      "Real prediction score: 95.00%\n",
      "Time:\n",
      "CPU times: user 65.8 ms, sys: 4.11 ms, total: 69.9 ms\n",
      "Wall time: 60.2 ms\n"
     ]
    }
   ],
   "source": [
    "%%time\n",
    "predictions = model.predict(val_x)\n",
    "pred_y = np.array([e for e in np.round(predictions.clip(0, 1).astype(float))])\n",
    "real_score = sum([val == pred for val, pred in zip(val_y.tolist(), pred_y.tolist())]) / val_x.shape[0]\n",
    "print(f'Validation using unseen data:\\nRecords being predicted on: \\n {val_x[0].shape[0]:,}\\nReal prediction score: {real_score * 100:0.2f}%\\nTime:')"
   ]
  },
  {
   "cell_type": "code",
   "execution_count": null,
   "id": "a472b0bc",
   "metadata": {},
   "outputs": [],
   "source": []
  }
 ],
 "metadata": {
  "kernelspec": {
   "display_name": "conda_tensorflow2_p310",
   "language": "python",
   "name": "conda_tensorflow2_p310"
  },
  "language_info": {
   "codemirror_mode": {
    "name": "ipython",
    "version": 3
   },
   "file_extension": ".py",
   "mimetype": "text/x-python",
   "name": "python",
   "nbconvert_exporter": "python",
   "pygments_lexer": "ipython3",
   "version": "3.10.10"
  }
 },
 "nbformat": 4,
 "nbformat_minor": 5
}
